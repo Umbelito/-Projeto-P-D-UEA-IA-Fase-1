{
  "nbformat": 4,
  "nbformat_minor": 0,
  "metadata": {
    "colab": {
      "name": "[Projeto P&D UEA-IA] Fase 1 - Hewerton Umbelito.ipynb",
      "provenance": []
    },
    "kernelspec": {
      "name": "python3",
      "display_name": "Python 3"
    }
  },
  "cells": [
    {
      "cell_type": "code",
      "metadata": {
        "id": "wp5E2msxHpNa"
      },
      "source": [
        "from sklearn.tree import DecisionTreeClassifier\r\n",
        "from sklearn.model_selection import train_test_split\r\n",
        "from sklearn import metrics\r\n",
        "import pandas as pd\r\n",
        "import seaborn as sns\r\n",
        "import matplotlib.pyplot as plt"
      ],
      "execution_count": 1,
      "outputs": []
    },
    {
      "cell_type": "code",
      "metadata": {
        "colab": {
          "base_uri": "https://localhost:8080/",
          "height": 419
        },
        "id": "rojUtGgWNZZ2",
        "outputId": "65115582-fc8b-4cc7-c846-93fe08bdc691"
      },
      "source": [
        "dados = pd.read_csv(\"iris.data\")\r\n",
        "dados"
      ],
      "execution_count": 2,
      "outputs": [
        {
          "output_type": "execute_result",
          "data": {
            "text/html": [
              "<div>\n",
              "<style scoped>\n",
              "    .dataframe tbody tr th:only-of-type {\n",
              "        vertical-align: middle;\n",
              "    }\n",
              "\n",
              "    .dataframe tbody tr th {\n",
              "        vertical-align: top;\n",
              "    }\n",
              "\n",
              "    .dataframe thead th {\n",
              "        text-align: right;\n",
              "    }\n",
              "</style>\n",
              "<table border=\"1\" class=\"dataframe\">\n",
              "  <thead>\n",
              "    <tr style=\"text-align: right;\">\n",
              "      <th></th>\n",
              "      <th>Sep_Comp</th>\n",
              "      <th>Sep_Larg</th>\n",
              "      <th>Pet_Comp</th>\n",
              "      <th>Pet_Larg</th>\n",
              "      <th>Especies</th>\n",
              "    </tr>\n",
              "  </thead>\n",
              "  <tbody>\n",
              "    <tr>\n",
              "      <th>0</th>\n",
              "      <td>5.1</td>\n",
              "      <td>3.5</td>\n",
              "      <td>1.4</td>\n",
              "      <td>0.2</td>\n",
              "      <td>Iris-setosa</td>\n",
              "    </tr>\n",
              "    <tr>\n",
              "      <th>1</th>\n",
              "      <td>4.9</td>\n",
              "      <td>3.0</td>\n",
              "      <td>1.4</td>\n",
              "      <td>0.2</td>\n",
              "      <td>Iris-setosa</td>\n",
              "    </tr>\n",
              "    <tr>\n",
              "      <th>2</th>\n",
              "      <td>4.7</td>\n",
              "      <td>3.2</td>\n",
              "      <td>1.3</td>\n",
              "      <td>0.2</td>\n",
              "      <td>Iris-setosa</td>\n",
              "    </tr>\n",
              "    <tr>\n",
              "      <th>3</th>\n",
              "      <td>4.6</td>\n",
              "      <td>3.1</td>\n",
              "      <td>1.5</td>\n",
              "      <td>0.2</td>\n",
              "      <td>Iris-setosa</td>\n",
              "    </tr>\n",
              "    <tr>\n",
              "      <th>4</th>\n",
              "      <td>5.0</td>\n",
              "      <td>3.6</td>\n",
              "      <td>1.4</td>\n",
              "      <td>0.2</td>\n",
              "      <td>Iris-setosa</td>\n",
              "    </tr>\n",
              "    <tr>\n",
              "      <th>...</th>\n",
              "      <td>...</td>\n",
              "      <td>...</td>\n",
              "      <td>...</td>\n",
              "      <td>...</td>\n",
              "      <td>...</td>\n",
              "    </tr>\n",
              "    <tr>\n",
              "      <th>145</th>\n",
              "      <td>6.7</td>\n",
              "      <td>3.0</td>\n",
              "      <td>5.2</td>\n",
              "      <td>2.3</td>\n",
              "      <td>Iris-virginica</td>\n",
              "    </tr>\n",
              "    <tr>\n",
              "      <th>146</th>\n",
              "      <td>6.3</td>\n",
              "      <td>2.5</td>\n",
              "      <td>5.0</td>\n",
              "      <td>1.9</td>\n",
              "      <td>Iris-virginica</td>\n",
              "    </tr>\n",
              "    <tr>\n",
              "      <th>147</th>\n",
              "      <td>6.5</td>\n",
              "      <td>3.0</td>\n",
              "      <td>5.2</td>\n",
              "      <td>2.0</td>\n",
              "      <td>Iris-virginica</td>\n",
              "    </tr>\n",
              "    <tr>\n",
              "      <th>148</th>\n",
              "      <td>6.2</td>\n",
              "      <td>3.4</td>\n",
              "      <td>5.4</td>\n",
              "      <td>2.3</td>\n",
              "      <td>Iris-virginica</td>\n",
              "    </tr>\n",
              "    <tr>\n",
              "      <th>149</th>\n",
              "      <td>5.9</td>\n",
              "      <td>3.0</td>\n",
              "      <td>5.1</td>\n",
              "      <td>1.8</td>\n",
              "      <td>Iris-virginica</td>\n",
              "    </tr>\n",
              "  </tbody>\n",
              "</table>\n",
              "<p>150 rows × 5 columns</p>\n",
              "</div>"
            ],
            "text/plain": [
              "     Sep_Comp  Sep_Larg  Pet_Comp  Pet_Larg        Especies\n",
              "0         5.1       3.5       1.4       0.2     Iris-setosa\n",
              "1         4.9       3.0       1.4       0.2     Iris-setosa\n",
              "2         4.7       3.2       1.3       0.2     Iris-setosa\n",
              "3         4.6       3.1       1.5       0.2     Iris-setosa\n",
              "4         5.0       3.6       1.4       0.2     Iris-setosa\n",
              "..        ...       ...       ...       ...             ...\n",
              "145       6.7       3.0       5.2       2.3  Iris-virginica\n",
              "146       6.3       2.5       5.0       1.9  Iris-virginica\n",
              "147       6.5       3.0       5.2       2.0  Iris-virginica\n",
              "148       6.2       3.4       5.4       2.3  Iris-virginica\n",
              "149       5.9       3.0       5.1       1.8  Iris-virginica\n",
              "\n",
              "[150 rows x 5 columns]"
            ]
          },
          "metadata": {
            "tags": []
          },
          "execution_count": 2
        }
      ]
    },
    {
      "cell_type": "code",
      "metadata": {
        "colab": {
          "base_uri": "https://localhost:8080/"
        },
        "id": "Td0sYXo3WoT4",
        "outputId": "c7ec2465-f9b8-4988-fe0f-07b0dde4cc0b"
      },
      "source": [
        "dados.shape"
      ],
      "execution_count": 3,
      "outputs": [
        {
          "output_type": "execute_result",
          "data": {
            "text/plain": [
              "(150, 5)"
            ]
          },
          "metadata": {
            "tags": []
          },
          "execution_count": 3
        }
      ]
    },
    {
      "cell_type": "markdown",
      "metadata": {
        "id": "5otMqHZLaAXg"
      },
      "source": [
        "**Esse é o mapa de calor com entrada como matriz de correlação, onde podemos verificar que o comprimento e largura da sépala não estão correlacionados. Por outro lado, o comprimento e largura da pétala estão altamente correlacionados.**"
      ]
    },
    {
      "cell_type": "code",
      "metadata": {
        "colab": {
          "base_uri": "https://localhost:8080/",
          "height": 270
        },
        "id": "pZLgDxntZvtJ",
        "outputId": "fac1e932-8779-49aa-fc8c-6312565a0d8c"
      },
      "source": [
        "plt.figure(figsize=(8,4))\r\n",
        "sns.heatmap(dados.corr(), annot=True, cmap='cubehelix_r')\r\n",
        "plt.show()"
      ],
      "execution_count": 4,
      "outputs": [
        {
          "output_type": "display_data",
          "data": {
            "image/png": "[encoded data removed]",
            "text/plain": [
              "<Figure size 576x288 with 2 Axes>"
            ]
          },
          "metadata": {
            "tags": [],
            "needs_background": "light"
          }
        }
      ]
    },
    {
      "cell_type": "markdown",
      "metadata": {
        "id": "yQ_cu4CtOx4H"
      },
      "source": [
        "**Separamos 70% dos dados para treino e os 30% restantes para teste.**"
      ]
    },
    {
      "cell_type": "code",
      "metadata": {
        "colab": {
          "base_uri": "https://localhost:8080/"
        },
        "id": "WnM5TNX1ORyi",
        "outputId": "9fa1c676-ccd1-432c-8c49-c179ca4b7d7c"
      },
      "source": [
        "train, test = train_test_split(dados, test_size=0.3)\r\n",
        "train.shape, test.shape"
      ],
      "execution_count": 5,
      "outputs": [
        {
          "output_type": "execute_result",
          "data": {
            "text/plain": [
              "((105, 5), (45, 5))"
            ]
          },
          "metadata": {
            "tags": []
          },
          "execution_count": 5
        }
      ]
    },
    {
      "cell_type": "code",
      "metadata": {
        "id": "vVQESqxcOfTJ"
      },
      "source": [
        "train_X = train[['Sep_Comp','Sep_Larg','Pet_Comp','Pet_Larg']]\r\n",
        "train_y = train.Especies\r\n",
        "\r\n",
        "test_X = test[['Sep_Comp','Sep_Larg','Pet_Comp','Pet_Larg']]\r\n",
        "test_y = test.Especies"
      ],
      "execution_count": 6,
      "outputs": []
    },
    {
      "cell_type": "code",
      "metadata": {
        "colab": {
          "base_uri": "https://localhost:8080/",
          "height": 204
        },
        "id": "UaRMpKmTO0zh",
        "outputId": "f3f6f6c8-d72c-42f4-f2e8-8606825aae6c"
      },
      "source": [
        "train_X.head()"
      ],
      "execution_count": 7,
      "outputs": [
        {
          "output_type": "execute_result",
          "data": {
            "text/html": [
              "<div>\n",
              "<style scoped>\n",
              "    .dataframe tbody tr th:only-of-type {\n",
              "        vertical-align: middle;\n",
              "    }\n",
              "\n",
              "    .dataframe tbody tr th {\n",
              "        vertical-align: top;\n",
              "    }\n",
              "\n",
              "    .dataframe thead th {\n",
              "        text-align: right;\n",
              "    }\n",
              "</style>\n",
              "<table border=\"1\" class=\"dataframe\">\n",
              "  <thead>\n",
              "    <tr style=\"text-align: right;\">\n",
              "      <th></th>\n",
              "      <th>Sep_Comp</th>\n",
              "      <th>Sep_Larg</th>\n",
              "      <th>Pet_Comp</th>\n",
              "      <th>Pet_Larg</th>\n",
              "    </tr>\n",
              "  </thead>\n",
              "  <tbody>\n",
              "    <tr>\n",
              "      <th>48</th>\n",
              "      <td>5.3</td>\n",
              "      <td>3.7</td>\n",
              "      <td>1.5</td>\n",
              "      <td>0.2</td>\n",
              "    </tr>\n",
              "    <tr>\n",
              "      <th>37</th>\n",
              "      <td>4.9</td>\n",
              "      <td>3.1</td>\n",
              "      <td>1.5</td>\n",
              "      <td>0.1</td>\n",
              "    </tr>\n",
              "    <tr>\n",
              "      <th>87</th>\n",
              "      <td>6.3</td>\n",
              "      <td>2.3</td>\n",
              "      <td>4.4</td>\n",
              "      <td>1.3</td>\n",
              "    </tr>\n",
              "    <tr>\n",
              "      <th>67</th>\n",
              "      <td>5.8</td>\n",
              "      <td>2.7</td>\n",
              "      <td>4.1</td>\n",
              "      <td>1.0</td>\n",
              "    </tr>\n",
              "    <tr>\n",
              "      <th>108</th>\n",
              "      <td>6.7</td>\n",
              "      <td>2.5</td>\n",
              "      <td>5.8</td>\n",
              "      <td>1.8</td>\n",
              "    </tr>\n",
              "  </tbody>\n",
              "</table>\n",
              "</div>"
            ],
            "text/plain": [
              "     Sep_Comp  Sep_Larg  Pet_Comp  Pet_Larg\n",
              "48        5.3       3.7       1.5       0.2\n",
              "37        4.9       3.1       1.5       0.1\n",
              "87        6.3       2.3       4.4       1.3\n",
              "67        5.8       2.7       4.1       1.0\n",
              "108       6.7       2.5       5.8       1.8"
            ]
          },
          "metadata": {
            "tags": []
          },
          "execution_count": 7
        }
      ]
    },
    {
      "cell_type": "code",
      "metadata": {
        "colab": {
          "base_uri": "https://localhost:8080/",
          "height": 204
        },
        "id": "JV4uaZvBWLZ5",
        "outputId": "c65d6f8e-9933-491b-c081-0a45e4229c64"
      },
      "source": [
        "test_X.head()"
      ],
      "execution_count": 8,
      "outputs": [
        {
          "output_type": "execute_result",
          "data": {
            "text/html": [
              "<div>\n",
              "<style scoped>\n",
              "    .dataframe tbody tr th:only-of-type {\n",
              "        vertical-align: middle;\n",
              "    }\n",
              "\n",
              "    .dataframe tbody tr th {\n",
              "        vertical-align: top;\n",
              "    }\n",
              "\n",
              "    .dataframe thead th {\n",
              "        text-align: right;\n",
              "    }\n",
              "</style>\n",
              "<table border=\"1\" class=\"dataframe\">\n",
              "  <thead>\n",
              "    <tr style=\"text-align: right;\">\n",
              "      <th></th>\n",
              "      <th>Sep_Comp</th>\n",
              "      <th>Sep_Larg</th>\n",
              "      <th>Pet_Comp</th>\n",
              "      <th>Pet_Larg</th>\n",
              "    </tr>\n",
              "  </thead>\n",
              "  <tbody>\n",
              "    <tr>\n",
              "      <th>130</th>\n",
              "      <td>7.4</td>\n",
              "      <td>2.8</td>\n",
              "      <td>6.1</td>\n",
              "      <td>1.9</td>\n",
              "    </tr>\n",
              "    <tr>\n",
              "      <th>109</th>\n",
              "      <td>7.2</td>\n",
              "      <td>3.6</td>\n",
              "      <td>6.1</td>\n",
              "      <td>2.5</td>\n",
              "    </tr>\n",
              "    <tr>\n",
              "      <th>84</th>\n",
              "      <td>5.4</td>\n",
              "      <td>3.0</td>\n",
              "      <td>4.5</td>\n",
              "      <td>1.5</td>\n",
              "    </tr>\n",
              "    <tr>\n",
              "      <th>134</th>\n",
              "      <td>6.1</td>\n",
              "      <td>2.6</td>\n",
              "      <td>5.6</td>\n",
              "      <td>1.4</td>\n",
              "    </tr>\n",
              "    <tr>\n",
              "      <th>135</th>\n",
              "      <td>7.7</td>\n",
              "      <td>3.0</td>\n",
              "      <td>6.1</td>\n",
              "      <td>2.3</td>\n",
              "    </tr>\n",
              "  </tbody>\n",
              "</table>\n",
              "</div>"
            ],
            "text/plain": [
              "     Sep_Comp  Sep_Larg  Pet_Comp  Pet_Larg\n",
              "130       7.4       2.8       6.1       1.9\n",
              "109       7.2       3.6       6.1       2.5\n",
              "84        5.4       3.0       4.5       1.5\n",
              "134       6.1       2.6       5.6       1.4\n",
              "135       7.7       3.0       6.1       2.3"
            ]
          },
          "metadata": {
            "tags": []
          },
          "execution_count": 8
        }
      ]
    },
    {
      "cell_type": "markdown",
      "metadata": {
        "id": "wf7l9l6KcUDg"
      },
      "source": [
        "**Modelo**"
      ]
    },
    {
      "cell_type": "code",
      "metadata": {
        "id": "TOHMWh8XfNHL",
        "colab": {
          "base_uri": "https://localhost:8080/"
        },
        "outputId": "d57f6b1e-b7ec-49a1-aefc-e4bb14789289"
      },
      "source": [
        "modelo = DecisionTreeClassifier()\r\n",
        "modelo.fit(train_X, train_y)\r\n",
        "for feature,importance in zip(dados.columns,modelo.feature_importances_):\r\n",
        "    print(\"{}:{}\".format(feature, importance))\r\n",
        "prediction = modelo.predict(test_X)\r\n",
        "print('A acurácia da Árvore de Decisão é: ', round((metrics.accuracy_score(prediction, test_y))*100,2),'%')"
      ],
      "execution_count": 9,
      "outputs": [
        {
          "output_type": "stream",
          "text": [
            "Sep_Comp:0.0\n",
            "Sep_Larg:0.026552287581699353\n",
            "Pet_Comp:0.05509754406813227\n",
            "Pet_Larg:0.9183501683501685\n",
            "A acurácia da Árvore de Decisão é:  97.78 %\n"
          ],
          "name": "stdout"
        }
      ]
    },
    {
      "cell_type": "markdown",
      "metadata": {
        "id": "hM30N-jmRyYH"
      },
      "source": [
        "**Com o comando *modelo.features_importances_* podemos enxergar qual a categoria o modelo considerou mais importante. No caso, o comprimento da pétala, da qual confirma com o mapa de calor a alta correlação. Com isso nosso modelo retornou uma acurácia de 97,78%, que demonstra uma alta perfomance do modelo.**"
      ]
    },
    {
      "cell_type": "markdown",
      "metadata": {
        "id": "EhOLH-IlU_hb"
      },
      "source": [
        "**Agora vamos avaliar os dados separadamente: Pétalas e Sépalas.**"
      ]
    },
    {
      "cell_type": "code",
      "metadata": {
        "id": "mqrN7-cdM0i3"
      },
      "source": [
        "petal = dados[['Pet_Comp','Pet_Larg','Especies']]\r\n",
        "sepal = dados[['Sep_Comp','Sep_Larg','Especies']]"
      ],
      "execution_count": 10,
      "outputs": []
    },
    {
      "cell_type": "markdown",
      "metadata": {
        "id": "ajDMqxiiVS_b"
      },
      "source": [
        "*Critério de divisão dos dados continuam os mesmos. 70% treino e 30% teste.*"
      ]
    },
    {
      "cell_type": "markdown",
      "metadata": {
        "id": "GLVLysTKVfEQ"
      },
      "source": [
        "**Pétalas**"
      ]
    },
    {
      "cell_type": "code",
      "metadata": {
        "id": "FP8fqhdCNF0Q"
      },
      "source": [
        "train_p,test_p = train_test_split(petal, test_size=0.3, random_state=0) \r\n",
        "train_x_p = train_p[['Pet_Comp','Pet_Larg']]\r\n",
        "train_y_p = train_p.Especies\r\n",
        "\r\n",
        "test_x_p = test_p[['Pet_Comp','Pet_Larg']]\r\n",
        "test_y_p = test_p.Especies"
      ],
      "execution_count": 11,
      "outputs": []
    },
    {
      "cell_type": "markdown",
      "metadata": {
        "id": "akIedqV2Vk-o"
      },
      "source": [
        "**Sépalas**"
      ]
    },
    {
      "cell_type": "code",
      "metadata": {
        "id": "fhqhd_ryNO1Z"
      },
      "source": [
        "train_s,test_s = train_test_split(sepal, test_size=0.3, random_state=0)\r\n",
        "train_x_s = train_s[['Sep_Comp','Sep_Larg']]\r\n",
        "train_y_s = train_s.Especies\r\n",
        "\r\n",
        "test_x_s = test_s[['Sep_Comp','Sep_Larg']]\r\n",
        "test_y_s = test_s.Especies"
      ],
      "execution_count": 12,
      "outputs": []
    },
    {
      "cell_type": "markdown",
      "metadata": {
        "id": "zmjJQjxScApT"
      },
      "source": [
        "**Modelo para pétalas**"
      ]
    },
    {
      "cell_type": "code",
      "metadata": {
        "colab": {
          "base_uri": "https://localhost:8080/"
        },
        "id": "IVoXhtD2NYdg",
        "outputId": "27d14a13-1021-4699-9b4b-e4b4dbc97854"
      },
      "source": [
        "modelo=DecisionTreeClassifier()\r\n",
        "modelo.fit(train_x_p,train_y_p) \r\n",
        "for feature,importance in zip(petal.columns,modelo.feature_importances_):\r\n",
        "    print(\"{}:{}\".format(feature, importance))\r\n",
        "prediction=modelo.predict(test_x_p) \r\n",
        "print('A acurácia da Árvore de Decisão usando as pétalas é: ',round((metrics.accuracy_score(prediction,test_y_p)*100),2), \"%\")"
      ],
      "execution_count": 14,
      "outputs": [
        {
          "output_type": "stream",
          "text": [
            "Pet_Comp:0.9139443012840827\n",
            "Pet_Larg:0.0860556987159173\n",
            "A acurácia da Árvore de Decisão usando as pétalas é:  95.56 %\n"
          ],
          "name": "stdout"
        }
      ]
    },
    {
      "cell_type": "markdown",
      "metadata": {
        "id": "_SZQL-SrcL4A"
      },
      "source": [
        "**Modelo para sépalas**"
      ]
    },
    {
      "cell_type": "code",
      "metadata": {
        "colab": {
          "base_uri": "https://localhost:8080/"
        },
        "id": "Pn8vTpPoX4ZS",
        "outputId": "c97a8909-2e9f-4ac4-8989-7369b23025e6"
      },
      "source": [
        "modelo=DecisionTreeClassifier()\r\n",
        "modelo.fit(train_x_s,train_y_s)\r\n",
        "for feature,importance in zip(sepal.columns,modelo.feature_importances_):\r\n",
        "    print(\"{}:{}\".format(feature, importance)) \r\n",
        "prediction=modelo.predict(test_x_s) \r\n",
        "print('A acurácia da Árvore de Decisão usando as sépalas é:',round((metrics.accuracy_score(prediction,test_y_s)*100),2), \"%\")"
      ],
      "execution_count": 15,
      "outputs": [
        {
          "output_type": "stream",
          "text": [
            "Sep_Comp:0.7604515747119392\n",
            "Sep_Larg:0.23954842528806064\n",
            "A acurácia da Árvore de Decisão usando as sépalas é: 64.44 %\n"
          ],
          "name": "stdout"
        }
      ]
    },
    {
      "cell_type": "markdown",
      "metadata": {
        "id": "IEORT64HdRMF"
      },
      "source": [
        "**Comparando os modelos acima, podemos ver que o uso de pétalas sobre sépalas tem uma acurácia muito superior (Pétalas = 95,56%; Sépalas = 64,44%). No mapa de calor, a pétala exibia uma alta correlação entre largura e comprimento, o que era esperado sobre os resultados individuais dos modelos de pétalas e sépalas. Com isso, obtemos com nosso algoritmo uma acurácia superior a 97%.**"
      ]
    }
  ]
}